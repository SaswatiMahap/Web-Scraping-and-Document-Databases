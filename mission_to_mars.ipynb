{
 "cells": [
  {
   "cell_type": "code",
   "execution_count": 6,
   "metadata": {},
   "outputs": [],
   "source": [
    "# Dependencies\n",
    "from bs4 import BeautifulSoup\n",
    "import requests"
   ]
  },
  {
   "cell_type": "code",
   "execution_count": 7,
   "metadata": {},
   "outputs": [],
   "source": [
    "# URL of page to be scraped\n",
    "url = 'https://mars.nasa.gov/news/'\n",
    "urli = 'https://www.jpl.nasa.gov/spaceimages/?search=&category=Mars'\n",
    "urlw = 'https://twitter.com/marswxreport?lang=en'\n",
    "urlf = 'http://space-facts.com/mars/'\n",
    "urla = 'https://astrogeology.usgs.gov/search/results?q=hemisphere+enhanced&k1=target&v1=Mars'"
   ]
  },
  {
   "cell_type": "code",
   "execution_count": 8,
   "metadata": {},
   "outputs": [],
   "source": [
    "# Retrieve page with the requests module\n",
    "# Create BeautifulSoup object; parse with 'html.parser'\n",
    "response = requests.get(url)\n",
    "soup = BeautifulSoup(response.text, 'html.parser')\n",
    "responsei = requests.get(urli)\n",
    "soupi = BeautifulSoup(responsei.text, 'html.parser')\n",
    "responsew = requests.get(urlw)\n",
    "soupw = BeautifulSoup(responsew.text, 'html.parser')\n",
    "responsef = requests.get(url)\n",
    "soupf = BeautifulSoup(responsef.text, 'html.parser')\n",
    "responsea = requests.get(url)\n",
    "soupa = BeautifulSoup(responsea.text, 'html.parser')"
   ]
  },
  {
   "cell_type": "code",
   "execution_count": 9,
   "metadata": {},
   "outputs": [
    {
     "name": "stdout",
     "output_type": "stream",
     "text": [
      "-------------\n",
      "\n",
      "Opportunity Hunkers Down During Dust Storm\n",
      "\n",
      "-------------\n",
      "\n",
      "NASA Finds Ancient Organic Material, Mysterious Methane on Mars\n",
      "\n",
      "-------------\n",
      "\n",
      "NASA Invests in Visionary Technology \n",
      "\n",
      "-------------\n",
      "\n",
      "NASA is Ready to Study the Heart of Mars\n",
      "\n",
      "-------------\n",
      "\n",
      "NASA Briefing on First Mission to Study Mars Interior\n",
      "\n",
      "-------------\n",
      "\n",
      "New 'AR' Mobile App Features 3-D NASA Spacecraft\n",
      "\n"
     ]
    }
   ],
   "source": [
    "# titles from the mars.nasa.gov website \n",
    "results = soup.find_all('div', class_=\"content_title\")\n",
    "\n",
    "# Loop through returned results\n",
    "for result in results:\n",
    "    # Error handling\n",
    "    try:\n",
    "        # Identify and return title of listing\n",
    "        news_title = result.a.text\n",
    "       \n",
    "             \n",
    "        if (news_title):\n",
    "            print('-------------')\n",
    "            print(news_title)\n",
    "          \n",
    "           \n",
    "    except AttributeError as e:\n",
    "        print(e)"
   ]
  },
  {
   "cell_type": "code",
   "execution_count": 15,
   "metadata": {},
   "outputs": [
    {
     "name": "stdout",
     "output_type": "stream",
     "text": [
      "-------------\n",
      "\n",
      "\n",
      "\n",
      "\n",
      "It's the beginning of the end for the planet-encircling dust storm on Mars. But it could still be weeks, or even months, before skies are clear enough for NASA's Opportunity rover to recharge its batteries and phone home. \n",
      "\n",
      "\n",
      "\n",
      "\n",
      "\n",
      "\n",
      "\n",
      "\n",
      "-------------\n",
      "\n",
      "\n",
      "\n",
      "\n",
      "NASA’s Curiosity rover has found evidence on Mars with implications for NASA’s search for life.\n",
      "\n",
      "\n",
      "\n",
      "\n",
      "\n",
      "\n",
      "\n",
      "\n",
      "-------------\n",
      "\n",
      "\n",
      "\n",
      "\n",
      "NASA is investing in technology concepts, including several from JPL, that may one day be used for future space exploration missions.\n",
      "\n",
      "\n",
      "\n",
      "\n",
      "\n",
      "\n",
      "\n",
      "\n",
      "-------------\n",
      "\n",
      "\n",
      "\n",
      "\n",
      "NASA is about to go on a journey to study the center of Mars.\n",
      "\n",
      "\n",
      "\n",
      "\n",
      "\n",
      "\n",
      "\n",
      "\n",
      "-------------\n",
      "\n",
      "\n",
      "\n",
      "\n",
      "NASA’s next mission to Mars will be the topic of a media briefing Thursday, March 29, at JPL. The briefing will air live on NASA Television and the agency’s website.\n",
      "\n",
      "\n",
      "\n",
      "\n",
      "\n",
      "\n",
      "\n",
      "\n",
      "-------------\n",
      "\n",
      "\n",
      "\n",
      "\n",
      "NASA spacecraft travel to far-off destinations in space, but a new mobile app produced by NASA's Jet Propulsion Laboratory, Pasadena, California, brings spacecraft to users.\n",
      "\n",
      "\n",
      "\n",
      "\n",
      "\n",
      "\n",
      "\n",
      "\n"
     ]
    }
   ],
   "source": [
    "# paragraphs from the mars.nasa.gov website \n",
    "result2 = soup.find_all('div', class_=\"image_and_description_container\")\n",
    "\n",
    "\n",
    "# Loop through returned results\n",
    "for result in result2:\n",
    "    # Error handling\n",
    "    try:\n",
    "        # Identify and return title of listing\n",
    "        news_p = result.text\n",
    "       \n",
    "             \n",
    "        if (news_p):\n",
    "            print('-------------')\n",
    "            print(news_p)\n",
    "          \n",
    "           \n",
    "    except AttributeError as e:\n",
    "        print(e)"
   ]
  },
  {
   "cell_type": "code",
   "execution_count": 19,
   "metadata": {},
   "outputs": [
    {
     "name": "stdout",
     "output_type": "stream",
     "text": [
      "-------------\n",
      "/spaceimages/images/largesize/PIA22624_hires.jpg\n",
      "-------------\n",
      "/spaceimages/images/largesize/PIA22623_hires.jpg\n",
      "-------------\n",
      "/spaceimages/images/largesize/PIA22622_hires.jpg\n",
      "-------------\n",
      "/spaceimages/images/largesize/PIA22621_hires.jpg\n",
      "-------------\n",
      "/spaceimages/images/largesize/PIA22620_hires.jpg\n",
      "-------------\n",
      "/spaceimages/images/largesize/PIA22546_hires.jpg\n",
      "-------------\n",
      "/spaceimages/images/largesize/PIA22619_hires.jpg\n",
      "-------------\n",
      "/spaceimages/images/largesize/PIA22618_hires.jpg\n",
      "-------------\n",
      "/spaceimages/images/largesize/PIA22617_hires.jpg\n",
      "-------------\n",
      "/spaceimages/images/largesize/PIA22616_hires.jpg\n",
      "-------------\n",
      "/spaceimages/images/largesize/PIA22615_hires.jpg\n",
      "-------------\n",
      "/spaceimages/images/largesize/PIA22614_hires.jpg\n",
      "-------------\n",
      "/spaceimages/images/largesize/PIA22612_hires.jpg\n",
      "-------------\n",
      "/spaceimages/images/largesize/PIA22611_hires.jpg\n",
      "-------------\n",
      "/spaceimages/images/largesize/PIA22610_hires.jpg\n",
      "-------------\n",
      "/spaceimages/images/largesize/PIA22609_hires.jpg\n",
      "-------------\n",
      "/spaceimages/images/largesize/PIA22595_hires.jpg\n",
      "-------------\n",
      "/spaceimages/images/largesize/PIA22594_hires.jpg\n",
      "-------------\n",
      "/spaceimages/images/largesize/PIA22592_hires.jpg\n",
      "-------------\n",
      "/spaceimages/images/largesize/PIA22586_hires.jpg\n",
      "-------------\n",
      "/spaceimages/images/largesize/PIA22608_hires.jpg\n",
      "-------------\n",
      "/spaceimages/images/largesize/PIA22607_hires.jpg\n",
      "-------------\n",
      "/spaceimages/images/largesize/PIA22487_hires.jpg\n",
      "-------------\n",
      "/spaceimages/images/largesize/PIA22606_hires.jpg\n",
      "-------------\n",
      "/spaceimages/images/largesize/PIA22605_hires.jpg\n",
      "-------------\n",
      "/spaceimages/images/largesize/PIA22604_hires.jpg\n",
      "-------------\n",
      "/spaceimages/images/largesize/PIA22603_hires.jpg\n",
      "-------------\n",
      "/spaceimages/images/largesize/PIA22602_hires.jpg\n",
      "-------------\n",
      "/spaceimages/images/largesize/PIA22598_hires.jpg\n",
      "-------------\n",
      "/spaceimages/images/largesize/PIA22597_hires.jpg\n",
      "-------------\n",
      "/spaceimages/images/largesize/PIA22596_hires.jpg\n",
      "-------------\n",
      "/spaceimages/images/largesize/PIA22588_hires.jpg\n"
     ]
    },
    {
     "ename": "KeyError",
     "evalue": "'data-fancybox-href'",
     "output_type": "error",
     "traceback": [
      "\u001b[1;31m---------------------------------------------------------------------------\u001b[0m",
      "\u001b[1;31mKeyError\u001b[0m                                  Traceback (most recent call last)",
      "\u001b[1;32m<ipython-input-19-f33ffe1256a1>\u001b[0m in \u001b[0;36m<module>\u001b[1;34m()\u001b[0m\n\u001b[0;32m      8\u001b[0m     \u001b[1;32mtry\u001b[0m\u001b[1;33m:\u001b[0m\u001b[1;33m\u001b[0m\u001b[0m\n\u001b[0;32m      9\u001b[0m         \u001b[1;31m# Identify and return link to listing\u001b[0m\u001b[1;33m\u001b[0m\u001b[1;33m\u001b[0m\u001b[0m\n\u001b[1;32m---> 10\u001b[1;33m         \u001b[0mfeatured_image_url\u001b[0m \u001b[1;33m=\u001b[0m \u001b[0mresult\u001b[0m\u001b[1;33m.\u001b[0m\u001b[0ma\u001b[0m\u001b[1;33m[\u001b[0m\u001b[1;34m'data-fancybox-href'\u001b[0m\u001b[1;33m]\u001b[0m\u001b[1;33m\u001b[0m\u001b[0m\n\u001b[0m\u001b[0;32m     11\u001b[0m \u001b[1;33m\u001b[0m\u001b[0m\n\u001b[0;32m     12\u001b[0m         \u001b[1;31m# Print results only if title, price, and link are available\u001b[0m\u001b[1;33m\u001b[0m\u001b[1;33m\u001b[0m\u001b[0m\n",
      "\u001b[1;32m~\\AppData\\Local\\conda\\conda\\envs\\PythonData\\lib\\site-packages\\bs4\\element.py\u001b[0m in \u001b[0;36m__getitem__\u001b[1;34m(self, key)\u001b[0m\n\u001b[0;32m   1009\u001b[0m         \"\"\"tag[key] returns the value of the 'key' attribute for the tag,\n\u001b[0;32m   1010\u001b[0m         and throws an exception if it's not there.\"\"\"\n\u001b[1;32m-> 1011\u001b[1;33m         \u001b[1;32mreturn\u001b[0m \u001b[0mself\u001b[0m\u001b[1;33m.\u001b[0m\u001b[0mattrs\u001b[0m\u001b[1;33m[\u001b[0m\u001b[0mkey\u001b[0m\u001b[1;33m]\u001b[0m\u001b[1;33m\u001b[0m\u001b[0m\n\u001b[0m\u001b[0;32m   1012\u001b[0m \u001b[1;33m\u001b[0m\u001b[0m\n\u001b[0;32m   1013\u001b[0m     \u001b[1;32mdef\u001b[0m \u001b[0m__iter__\u001b[0m\u001b[1;33m(\u001b[0m\u001b[0mself\u001b[0m\u001b[1;33m)\u001b[0m\u001b[1;33m:\u001b[0m\u001b[1;33m\u001b[0m\u001b[0m\n",
      "\u001b[1;31mKeyError\u001b[0m: 'data-fancybox-href'"
     ]
    }
   ],
   "source": [
    "# find the image url for the current Featured Mars Image and assign the url string to a variable called `featured_image_url`\n",
    "## Example:featured_image_url = 'https://www.jpl.nasa.gov/spaceimages/images/largesize/PIA16225_hires.jpg'\n",
    "result3 = soupi.find_all('li', class_=\"slide\")\n",
    "\n",
    "# Loop through returned results\n",
    "for result in result3:\n",
    "    # Error handling\n",
    "    try:\n",
    "        # Identify and return link to listing\n",
    "        featured_image_url = result.a['data-fancybox-href']\n",
    "\n",
    "        # Print results only if title, price, and link are available\n",
    "        if (featured_image_url):\n",
    "            print('-------------')\n",
    "            print(featured_image_url)\n",
    "    except AttributeError as e:\n",
    "        print(e)"
   ]
  },
  {
   "cell_type": "code",
   "execution_count": 24,
   "metadata": {},
   "outputs": [
    {
     "name": "stdout",
     "output_type": "stream",
     "text": [
      "-------------\n",
      "Sol 2142 (2018-08-15), high -10C/14F, low -71C/-95F, pressure at 8.65 hPa, daylight 05:28-17:41\n",
      "-------------\n",
      "Sol 2141 (2018-08-14), high -17C/1F, low -66C/-86F, pressure at 8.63 hPa, daylight 05:27-17:41\n",
      "-------------\n",
      "Clearing skies following the Mars dust storm are evident in these images by @TerryLovejoy66pic.twitter.com/tYjUY1UjFn\n",
      "-------------\n",
      "Sol 2140 (2018-08-13), high -10C/14F, low -70C/-93F, pressure at 8.58 hPa, daylight 05:27-17:40\n",
      "-------------\n",
      "Sol 2139 (2018-08-12), high -11C/12F, low -70C/-93F, pressure at 8.57 hPa, daylight 05:27-17:40\n",
      "-------------\n",
      "Sol 2138 (2018-08-11), high -16C/3F, low -68C/-90F, pressure at 8.58 hPa, daylight 05:26-17:39\n",
      "-------------\n",
      "Sol 2137 (2018-08-10), high -13C/8F, low -66C/-86F, pressure at 8.57 hPa, daylight 05:26-17:38\n",
      "-------------\n",
      "Sol 2136 (2018-08-09), high -13C/8F, low -66C/-86F, pressure at 8.56 hPa, daylight 05:26-17:38\n",
      "-------------\n",
      "Sol 2135 (2018-08-08), high -15C/5F, low -66C/-86F, pressure at 8.54 hPa, daylight 05:25-17:37\n",
      "-------------\n",
      "Sol 2134 (2018-08-07), high -14C/6F, low -65C/-84F, pressure at 8.51 hPa, daylight 05:25-17:37\n",
      "-------------\n",
      "Sol 2133 (2018-08-06), high -18C/0F, low -65C/-84F, pressure at 8.49 hPa, daylight 05:24-17:37\n",
      "-------------\n",
      "Sol 2132 (2018-08-05), high -16C/3F, low -69C/-92F, pressure at 8.47 hPa, daylight 05:24-17:36\n",
      "-------------\n",
      "Sol 2131 (2018-08-04), high -21C/-5F, low -67C/-88F, pressure at 8.46 hPa, daylight 05:24-17:36\n",
      "-------------\n",
      "Sol 2130 (2018-08-03), high -18C/0F, low -62C/-79F, pressure at 8.44 hPa, daylight 05:24-17:35\n",
      "-------------\n",
      "Sol 2129 (2018-08-02), high -21C/-5F, low -66C/-86F, pressure at 8.43 hPa, daylight 05:23-17:35\n",
      "-------------\n",
      "Sol 2128 (2018-08-01), high -20C/-3F, low -65C/-84F, pressure at 8.41 hPa, daylight 05:23-17:34\n",
      "-------------\n",
      "Sol 2127 (2018-07-31), high -18C/0F, low -69C/-92F, pressure at 8.38 hPa, daylight 05:23-17:34\n",
      "-------------\n",
      "Sol 2126 (2018-07-30), high -18C/0F, low -63C/-81F, pressure at 8.37 hPa, daylight 05:22-17:33\n",
      "-------------\n",
      "Sol 2125 (2018-07-29), high -17C/1F, low -66C/-86F, pressure at 8.34 hPa, daylight 05:22-17:33\n",
      "-------------\n",
      "Sol 2124 (2018-07-28), high -17C/1F, low -67C/-88F, pressure at 8.32 hPa, daylight 05:22-17:33\n"
     ]
    }
   ],
   "source": [
    "### Mars Weather\n",
    "#scrape the latest Mars weather tweet from the page. Save the tweet text for the weather report as a variable called `mars_weather`.\n",
    "#mars_weather = 'Sol 1801 (Aug 30, 2017), Sunny, high -21C/-5F, low -80C/-112F, pressure at 8.82 hPa, daylight 06:09-17:55'\n",
    "# titles from the mars.nasa.gov website \n",
    "resultw = soupw.find_all('div', class_=\"js-tweet-text-container\")\n",
    "\n",
    "# Loop through returned results\n",
    "for resultw in resultw:\n",
    "    # Error handling\n",
    "    try:\n",
    "       \n",
    "        mars_weather = resultw.p.text\n",
    "\n",
    "        \n",
    "        if (mars_weather):\n",
    "            print('-------------')\n",
    "            print(mars_weather)\n",
    "    except AttributeError as e:\n",
    "        print(e)"
   ]
  },
  {
   "cell_type": "code",
   "execution_count": 25,
   "metadata": {},
   "outputs": [
    {
     "data": {
      "text/plain": [
       "[                      0                              1\n",
       " 0  Equatorial Diameter:                       6,792 km\n",
       " 1       Polar Diameter:                       6,752 km\n",
       " 2                 Mass:  6.42 x 10^23 kg (10.7% Earth)\n",
       " 3                Moons:            2 (Phobos & Deimos)\n",
       " 4       Orbit Distance:       227,943,824 km (1.52 AU)\n",
       " 5         Orbit Period:           687 days (1.9 years)\n",
       " 6  Surface Temperature:                  -153 to 20 °C\n",
       " 7         First Record:              2nd millennium BC\n",
       " 8          Recorded By:           Egyptian astronomers]"
      ]
     },
     "execution_count": 25,
     "metadata": {},
     "output_type": "execute_result"
    }
   ],
   "source": [
    "### Mars Facts\n",
    "# use Pandas to scrape the table containing facts about the planet including Diameter, Mass, etc.\n",
    "import pandas as pd\n",
    "tables = pd.read_html(urlf)\n",
    "tables"
   ]
  },
  {
   "cell_type": "code",
   "execution_count": 41,
   "metadata": {},
   "outputs": [
    {
     "name": "stdout",
     "output_type": "stream",
     "text": [
      "[]\n"
     ]
    }
   ],
   "source": [
    "### Mars Hemispheres\n",
    "# obtain high resolution images for each of Mar's hemispheres\n",
    "\n",
    "# Save both the image url string for the full resolution hemisphere image, \n",
    "#and the Hemisphere title containing the hemisphere name. \n",
    "#Use a Python dictionary to store the data using the keys `img_url` and `title`.\n",
    "urla = 'https://astrogeology.usgs.gov/search/results?q=hemisphere+enhanced&k1=target&v1=Mars'\n",
    "resulta = soupa.find_all(class_=\"itemLink product-item\")\n",
    "print(resulta)"
   ]
  },
  {
   "cell_type": "code",
   "execution_count": null,
   "metadata": {},
   "outputs": [],
   "source": []
  },
  {
   "cell_type": "code",
   "execution_count": null,
   "metadata": {},
   "outputs": [],
   "source": []
  },
  {
   "cell_type": "code",
   "execution_count": null,
   "metadata": {},
   "outputs": [],
   "source": []
  },
  {
   "cell_type": "code",
   "execution_count": null,
   "metadata": {},
   "outputs": [],
   "source": []
  },
  {
   "cell_type": "code",
   "execution_count": null,
   "metadata": {},
   "outputs": [],
   "source": []
  },
  {
   "cell_type": "code",
   "execution_count": null,
   "metadata": {},
   "outputs": [],
   "source": []
  },
  {
   "cell_type": "code",
   "execution_count": null,
   "metadata": {},
   "outputs": [],
   "source": []
  }
 ],
 "metadata": {
  "kernelspec": {
   "display_name": "Python 3",
   "language": "python",
   "name": "python3"
  },
  "language_info": {
   "codemirror_mode": {
    "name": "ipython",
    "version": 3
   },
   "file_extension": ".py",
   "mimetype": "text/x-python",
   "name": "python",
   "nbconvert_exporter": "python",
   "pygments_lexer": "ipython3",
   "version": "3.6.4"
  },
  "nteract": {
   "version": "0.2.0"
  },
  "varInspector": {
   "cols": {
    "lenName": 16,
    "lenType": 16,
    "lenVar": 40
   },
   "kernels_config": {
    "python": {
     "delete_cmd_postfix": "",
     "delete_cmd_prefix": "del ",
     "library": "var_list.py",
     "varRefreshCmd": "print(var_dic_list())"
    },
    "r": {
     "delete_cmd_postfix": ") ",
     "delete_cmd_prefix": "rm(",
     "library": "var_list.r",
     "varRefreshCmd": "cat(var_dic_list()) "
    }
   },
   "types_to_exclude": [
    "module",
    "function",
    "builtin_function_or_method",
    "instance",
    "_Feature"
   ],
   "window_display": false
  }
 },
 "nbformat": 4,
 "nbformat_minor": 2
}
